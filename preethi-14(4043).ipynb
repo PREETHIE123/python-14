{
 "cells": [
  {
   "cell_type": "markdown",
   "metadata": {},
   "source": [
    "### 1:creation of tuple"
   ]
  },
  {
   "cell_type": "code",
   "execution_count": 2,
   "metadata": {},
   "outputs": [
    {
     "name": "stdout",
     "output_type": "stream",
     "text": [
      "(2, 3, 4, 5, 6)\n"
     ]
    }
   ],
   "source": [
    "t1=(2,3,4,5,6)\n",
    "print(t1)"
   ]
  },
  {
   "cell_type": "markdown",
   "metadata": {},
   "source": [
    "### 2:tuples with different data types"
   ]
  },
  {
   "cell_type": "code",
   "execution_count": 3,
   "metadata": {},
   "outputs": [
    {
     "name": "stdout",
     "output_type": "stream",
     "text": [
      "(2, 'preethi', 4.6)\n"
     ]
    }
   ],
   "source": [
    "t=(2,\"preethi\",4.6)\n",
    "print(t)"
   ]
  },
  {
   "cell_type": "markdown",
   "metadata": {},
   "source": [
    "### 3:string to a tuples"
   ]
  },
  {
   "cell_type": "code",
   "execution_count": 4,
   "metadata": {},
   "outputs": [
    {
     "name": "stdout",
     "output_type": "stream",
     "text": [
      "mickymousechotabheem\n"
     ]
    }
   ],
   "source": [
    "def con(tup):\n",
    "    str=\"\".join(tup)\n",
    "    return str\n",
    "tup=(\"micky\",\"mouse\",\"chota\",\"bheem\")\n",
    "k=con(tup)\n",
    "print(k)"
   ]
  },
  {
   "cell_type": "markdown",
   "metadata": {},
   "source": [
    "## 4:slicing a tuple"
   ]
  },
  {
   "cell_type": "code",
   "execution_count": 5,
   "metadata": {},
   "outputs": [
    {
     "name": "stdout",
     "output_type": "stream",
     "text": [
      "('chota', 'bheem', 'tom', 'jerry')\n",
      "('micky', 'mouse')\n",
      "('micky', 'mouse', 'chota')\n"
     ]
    }
   ],
   "source": [
    "tup=(\"micky\",\"mouse\",\"chota\",\"bheem\",\"tom\",\"jerry\")\n",
    "print(tup[2:])\n",
    "print(tup[:2])\n",
    "print(tup[:3])"
   ]
  },
  {
   "cell_type": "markdown",
   "metadata": {},
   "source": [
    "### 5:length of a tuple"
   ]
  },
  {
   "cell_type": "code",
   "execution_count": 7,
   "metadata": {},
   "outputs": [
    {
     "name": "stdout",
     "output_type": "stream",
     "text": [
      "8\n"
     ]
    }
   ],
   "source": [
    "tup=(\"micky\",\"mouse\",\"chota\",\"bheem\",\"tom\",\"jerry\",\"black\",\"berry\")\n",
    "print(len(tup))"
   ]
  },
  {
   "cell_type": "markdown",
   "metadata": {},
   "source": [
    "### 6:tuples to dictionary"
   ]
  },
  {
   "cell_type": "code",
   "execution_count": 8,
   "metadata": {},
   "outputs": [
    {
     "name": "stdout",
     "output_type": "stream",
     "text": [
      "micky 1\n",
      "mouse 2\n",
      "chota 3\n",
      "bheem 4\n",
      "tom 5\n",
      "jerry 6\n"
     ]
    }
   ],
   "source": [
    "tup=(\"micky\",\"mouse\",\"chota\",\"bheem\",\"tom\",\"jerry\")\n",
    "d={}\n",
    "n=(1,2,3,4,5,6)\n",
    "for i in range(len(n)):\n",
    "    d[tup[i]]=n[i]\n",
    "for fn in d:\n",
    "    print(fn,d[fn])\n",
    "    "
   ]
  },
  {
   "cell_type": "markdown",
   "metadata": {},
   "source": [
    "### 7:reversing a tuple"
   ]
  },
  {
   "cell_type": "code",
   "execution_count": 11,
   "metadata": {},
   "outputs": [
    {
     "name": "stdout",
     "output_type": "stream",
     "text": [
      "('jerry', 'tom', 'bheem', 'chota', 'mouse', 'mickey')\n"
     ]
    }
   ],
   "source": [
    "tup=(\"mickey\",\"mouse\",\"chota\",\"bheem\",\"tom\",\"jerry\")\n",
    "for i in range(len(tup)):\n",
    "    k=tup[::-1]\n",
    "print(k)    \n",
    "    "
   ]
  },
  {
   "cell_type": "markdown",
   "metadata": {},
   "source": [
    "### 8:list of tuples to a dictionary"
   ]
  },
  {
   "cell_type": "code",
   "execution_count": 12,
   "metadata": {},
   "outputs": [
    {
     "name": "stdout",
     "output_type": "stream",
     "text": [
      "rama sita 4\n",
      "motu patlu 5\n",
      "chota bheem 6\n"
     ]
    }
   ],
   "source": [
    "tup=((\"rama\",\"sita\"),(\"motu\",\"patlu\"),(\"chota\",\"bheem\")) \n",
    "num=(4,5,6)                                   \n",
    "t={}                                        \n",
    "for i in range(len(num)):\n",
    "    t[tup[i]]=num[i]\n",
    "for fn,ln in t:\n",
    "    print(fn,ln,t[fn,ln])"
   ]
  },
  {
   "cell_type": "markdown",
   "metadata": {},
   "source": [
    "### 9:list to a tuple"
   ]
  },
  {
   "cell_type": "code",
   "execution_count": 13,
   "metadata": {},
   "outputs": [
    {
     "name": "stdout",
     "output_type": "stream",
     "text": [
      "(1, 4, 7, 8, 9)\n"
     ]
    }
   ],
   "source": [
    "l1=[1,4,7,8,9]\n",
    "k=tuple(l1)\n",
    "print(k)"
   ]
  },
  {
   "cell_type": "code",
   "execution_count": null,
   "metadata": {},
   "outputs": [],
   "source": []
  }
 ],
 "metadata": {
  "kernelspec": {
   "display_name": "Python 3",
   "language": "python",
   "name": "python3"
  },
  "language_info": {
   "codemirror_mode": {
    "name": "ipython",
    "version": 3
   },
   "file_extension": ".py",
   "mimetype": "text/x-python",
   "name": "python",
   "nbconvert_exporter": "python",
   "pygments_lexer": "ipython3",
   "version": "3.7.6"
  }
 },
 "nbformat": 4,
 "nbformat_minor": 4
}
